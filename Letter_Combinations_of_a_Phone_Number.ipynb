{
  "nbformat": 4,
  "nbformat_minor": 0,
  "metadata": {
    "colab": {
      "name": "Letter Combinations of a Phone Number.ipynb",
      "provenance": [],
      "authorship_tag": "ABX9TyO/mCo0rlQctQeUsZzdkM0r",
      "include_colab_link": true
    },
    "kernelspec": {
      "name": "python3",
      "display_name": "Python 3"
    },
    "language_info": {
      "name": "python"
    }
  },
  "cells": [
    {
      "cell_type": "markdown",
      "metadata": {
        "id": "view-in-github",
        "colab_type": "text"
      },
      "source": [
        "<a href=\"https://colab.research.google.com/github/Soham1729/LeetCode-Problems/blob/main/Letter_Combinations_of_a_Phone_Number.ipynb\" target=\"_parent\"><img src=\"https://colab.research.google.com/assets/colab-badge.svg\" alt=\"Open In Colab\"/></a>"
      ]
    },
    {
      "cell_type": "markdown",
      "source": [
        "Given a string containing digits from 2-9 inclusive, return all possible letter combinations that the number could represent. Return the answer in any order.\n",
        "\n",
        "A mapping of digit to letters (just like on the telephone buttons) is given below. Note that 1 does not map to any letters.\n",
        "\n",
        "\n",
        "* Example 1:\n",
        "\n",
        "    Input: digits = \"23\"\n",
        "    Output: [\"ad\",\"ae\",\"af\",\"bd\",\"be\",\"bf\",\"cd\",\"ce\",\"cf\"]\n",
        "* Example 2:\n",
        "\n",
        "    Input: digits = \"\"\n",
        "    Output: []\n",
        "* Example 3:\n",
        "\n",
        "    Input: digits = \"2\"\n",
        "    Output: [\"a\",\"b\",\"c\"]\n"
      ],
      "metadata": {
        "id": "eNKXgzbNsvbF"
      }
    },
    {
      "cell_type": "code",
      "source": [
        "import string\n",
        "for i in string.ascii_lowercase:\n",
        "  print(i, end=',')"
      ],
      "metadata": {
        "colab": {
          "base_uri": "https://localhost:8080/"
        },
        "id": "fml1s_uauvuH",
        "outputId": "f9ffe640-54de-4bd0-ea15-0461328614a1"
      },
      "execution_count": null,
      "outputs": [
        {
          "output_type": "stream",
          "name": "stdout",
          "text": [
            "a,b,c,d,e,f,g,h,i,j,k,l,m,n,o,p,q,r,s,t,u,v,w,x,y,z,"
          ]
        }
      ]
    },
    {
      "cell_type": "code",
      "source": [
        ""
      ],
      "metadata": {
        "id": "sgeR_HTbvoHj"
      },
      "execution_count": null,
      "outputs": []
    },
    {
      "cell_type": "code",
      "source": [
        "# Step one : We need to make a hash table for representing digits to numbers\n",
        "\n",
        "def letterCombinations(digits):\n",
        "  dict = {\n",
        "      '2' : ['a','b','c'],\n",
        "      '3' : ['d','e','f'],\n",
        "      '4' : ['g','h','i'],\n",
        "      '5' : ['j','k','l'],\n",
        "      '6' : ['m','n','o'],\n",
        "      '7' : ['p','q','r','s'],\n",
        "      '8' : ['t','u','v'],\n",
        "      '9' : ['w','x','y','z']             \n",
        "      }\n",
        "  input = [dict[i] for i in digits]\n",
        "\n",
        "# Now the problem amounts to do a simple cartesian product of the list elements of input\n",
        "\n",
        "  if input:\n",
        "    final_list = input[0]\n",
        "  for multiply in input[1:]:\n",
        "    final_list = list(''.join(e) for e in itertools.product(final_list, multiply))\n",
        "  return final_list\n",
        "\n",
        "letterCombinations('239')"
      ],
      "metadata": {
        "colab": {
          "base_uri": "https://localhost:8080/"
        },
        "id": "jO0LFeJItT4Z",
        "outputId": "c4bbc61f-2d49-4b00-d28e-1e31f1000a1d"
      },
      "execution_count": null,
      "outputs": [
        {
          "output_type": "execute_result",
          "data": {
            "text/plain": [
              "['adw',\n",
              " 'adx',\n",
              " 'ady',\n",
              " 'adz',\n",
              " 'aew',\n",
              " 'aex',\n",
              " 'aey',\n",
              " 'aez',\n",
              " 'afw',\n",
              " 'afx',\n",
              " 'afy',\n",
              " 'afz',\n",
              " 'bdw',\n",
              " 'bdx',\n",
              " 'bdy',\n",
              " 'bdz',\n",
              " 'bew',\n",
              " 'bex',\n",
              " 'bey',\n",
              " 'bez',\n",
              " 'bfw',\n",
              " 'bfx',\n",
              " 'bfy',\n",
              " 'bfz',\n",
              " 'cdw',\n",
              " 'cdx',\n",
              " 'cdy',\n",
              " 'cdz',\n",
              " 'cew',\n",
              " 'cex',\n",
              " 'cey',\n",
              " 'cez',\n",
              " 'cfw',\n",
              " 'cfx',\n",
              " 'cfy',\n",
              " 'cfz']"
            ]
          },
          "metadata": {},
          "execution_count": 12
        }
      ]
    },
    {
      "cell_type": "markdown",
      "source": [
        ""
      ],
      "metadata": {
        "id": "k51rU7dvssOo"
      }
    }
  ]
}