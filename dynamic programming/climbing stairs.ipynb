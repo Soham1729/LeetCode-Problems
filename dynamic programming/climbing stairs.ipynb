{
 "cells": [
  {
   "cell_type": "markdown",
   "metadata": {},
   "source": [
    "You are climbing a staircase. It takes $n$ steps to reach the top.\n",
    "\n",
    "Each time you can either climb $1$ or $2$ steps. In how many distinct ways can you climb to the top?"
   ]
  },
  {
   "cell_type": "code",
   "execution_count": 4,
   "metadata": {},
   "outputs": [],
   "source": [
    "def climb_stairs(n: int) -> int:\n",
    "    prev1 = 1                        # If there is only one stairs then one step reaches top\n",
    "    prev2 = 0                        # Two steps can not be taken for a single stair\n",
    "    \n",
    "    for i in range(1,n+1):              \n",
    "        temp = prev1 + prev2\n",
    "        prev2 = prev1\n",
    "        prev1 = temp\n",
    "        \n",
    "    return prev1"
   ]
  },
  {
   "cell_type": "code",
   "execution_count": 5,
   "metadata": {},
   "outputs": [
    {
     "data": {
      "text/plain": [
       "1"
      ]
     },
     "execution_count": 5,
     "metadata": {},
     "output_type": "execute_result"
    }
   ],
   "source": [
    "for i in range(1,50):\n",
    "    climb_stairs(i)"
   ]
  }
 ],
 "metadata": {
  "interpreter": {
   "hash": "a665b5d41d17b532ea9890333293a1b812fa0b73c9c25c950b3cedf1bebd0438"
  },
  "kernelspec": {
   "display_name": "Python 3.9.16 64-bit",
   "language": "python",
   "name": "python3"
  },
  "language_info": {
   "codemirror_mode": {
    "name": "ipython",
    "version": 3
   },
   "file_extension": ".py",
   "mimetype": "text/x-python",
   "name": "python",
   "nbconvert_exporter": "python",
   "pygments_lexer": "ipython3",
   "version": "3.9.16"
  },
  "orig_nbformat": 4
 },
 "nbformat": 4,
 "nbformat_minor": 2
}
