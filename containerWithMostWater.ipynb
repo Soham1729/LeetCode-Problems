{
  "nbformat": 4,
  "nbformat_minor": 0,
  "metadata": {
    "colab": {
      "name": "containerWithMostWater.ipynb",
      "provenance": [],
      "authorship_tag": "ABX9TyPzD1bD3wRoCsZ80yhVHx2y",
      "include_colab_link": true
    },
    "kernelspec": {
      "name": "python3",
      "display_name": "Python 3"
    },
    "language_info": {
      "name": "python"
    }
  },
  "cells": [
    {
      "cell_type": "markdown",
      "metadata": {
        "id": "view-in-github",
        "colab_type": "text"
      },
      "source": [
        "<a href=\"https://colab.research.google.com/github/Soham1729/LeetCode-Problems/blob/main/containerWithMostWater.ipynb\" target=\"_parent\"><img src=\"https://colab.research.google.com/assets/colab-badge.svg\" alt=\"Open In Colab\"/></a>"
      ]
    },
    {
      "cell_type": "markdown",
      "source": [
        "You are given an integer array height of length n. There are n vertical lines drawn such that the two endpoints of the ith line are (i, 0) and (i, height[i]).\n",
        "\n",
        "Find two lines that together with the x-axis form a container, such that the container contains the most water.\n",
        "\n",
        "Return the maximum amount of water a container can store.\n",
        "\n",
        "Notice that you may not slant the container.\n",
        "\n",
        "* Input: height = [1,8,6,2,5,4,8,3,7]\n",
        "* Output: 49\n",
        "* Explanation: The above vertical lines are represented by array [1,8,6,2,5,4,8,3,7]. In this case, the max area of water (blue section) the container can contain is 49.\n",
        "\n",
        "\n",
        "* Input: height = [1,1]\n",
        "* Output: 1"
      ],
      "metadata": {
        "id": "uE-6IArv9h0s"
      }
    },
    {
      "cell_type": "code",
      "execution_count": 2,
      "metadata": {
        "colab": {
          "base_uri": "https://localhost:8080/"
        },
        "id": "hYHuBA1j8Pz0",
        "outputId": "b992a88f-6537-48be-9ae2-6d2e6e239d14"
      },
      "outputs": [
        {
          "output_type": "execute_result",
          "data": {
            "text/plain": [
              "49"
            ]
          },
          "metadata": {},
          "execution_count": 2
        }
      ],
      "source": [
        "def mostWater(height):\n",
        "\n",
        "  left = 0\n",
        "  right = len(height) - 1\n",
        "  waterCapacity = 0\n",
        "\n",
        "  while left <  right :\n",
        "    waterCapacity = max(waterCapacity,min(height[left],height[right])*(right-left))\n",
        "\n",
        "    if height[left] < height[right]:\n",
        "      left += 1\n",
        "\n",
        "    else:\n",
        "      right -= 1\n",
        "\n",
        "  return waterCapacity\n",
        "\n",
        "mostWater([1,8,6,2,5,3,4,8,7]) "
      ]
    },
    {
      "cell_type": "markdown",
      "source": [
        ""
      ],
      "metadata": {
        "id": "hYUCWF299g1F"
      }
    }
  ]
}