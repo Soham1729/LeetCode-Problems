{
  "nbformat": 4,
  "nbformat_minor": 0,
  "metadata": {
    "colab": {
      "name": "Buy-Sell_stock-I-II-III.ipynb",
      "provenance": [],
      "authorship_tag": "ABX9TyMAO3dGG42r1O8OQBPI2mtP",
      "include_colab_link": true
    },
    "kernelspec": {
      "name": "python3",
      "display_name": "Python 3"
    },
    "language_info": {
      "name": "python"
    }
  },
  "cells": [
    {
      "cell_type": "markdown",
      "metadata": {
        "id": "view-in-github",
        "colab_type": "text"
      },
      "source": [
        "<a href=\"https://colab.research.google.com/github/Soham1729/LeetCode-Problems/blob/main/Buy_Sell_stock_I_II_III.ipynb\" target=\"_parent\"><img src=\"https://colab.research.google.com/assets/colab-badge.svg\" alt=\"Open In Colab\"/></a>"
      ]
    },
    {
      "cell_type": "markdown",
      "source": [
        "**Buy Sell Stock I**\n",
        "\n",
        "You are given an array prices where prices[i] is the price of a given stock on the ith day. You want to maximize your profit by choosing a single day to buy one stock and choosing a different day in the future to sell that stock. Return the maximum profit you can achieve from this transaction. \n",
        "\n",
        "If you cannot achieve any profit, return 0.\n",
        "\n",
        "* Input: prices = [7,1,5,3,6,4]\n",
        "* Output: 5\n",
        "* Explanation: Buy on day 2 (price = 1) and sell on day 5 (price = 6), profit = 6-1 = 5.\n",
        "Note that buying on day 2 and selling on day 1 is not allowed because you must buy before you sell.\n",
        "\n",
        "* Input: prices = [7,6,4,3,1]\n",
        "* Output: 0\n",
        "*Explanation: In this case, no transactions are done and the max profit = 0."
      ],
      "metadata": {
        "id": "XKtSuLAZWb6N"
      }
    },
    {
      "cell_type": "markdown",
      "source": [
        "**Sliding window technique**"
      ],
      "metadata": {
        "id": "0yZhhanO3orz"
      }
    },
    {
      "cell_type": "code",
      "execution_count": 11,
      "metadata": {
        "colab": {
          "base_uri": "https://localhost:8080/"
        },
        "id": "kYug7zLSWGE4",
        "outputId": "87fa9903-45d3-4b8d-a337-9f04b670499e"
      },
      "outputs": [
        {
          "output_type": "execute_result",
          "data": {
            "text/plain": [
              "0"
            ]
          },
          "metadata": {},
          "execution_count": 11
        }
      ],
      "source": [
        "import math  # Time complexity = O(n) Space complexity = O(1)\n",
        "def maxProfit(prices):\n",
        "        minPrice = math.inf\n",
        "        maxProfit = 0\n",
        "        for i in range(len(prices)):\n",
        "            minPrice = min(prices[i],minPrice)\n",
        "            maxProfit = max(maxProfit,prices[i]-minPrice)\n",
        "        return maxProfit\n",
        "\n",
        "maxProfit([7,6,4,3,1])"
      ]
    },
    {
      "cell_type": "markdown",
      "source": [
        "**Two pointer technique**"
      ],
      "metadata": {
        "id": "SKBPak8JWNF2"
      }
    },
    {
      "cell_type": "code",
      "source": [
        "def maxProfit_I(prices): # Time complexity = O(n) Space complexity = O(1)\n",
        "  left = 0\n",
        "  right = 1\n",
        "  maxProfit = 0\n",
        "\n",
        "  while right < len(prices) :\n",
        "    if prices[left] < prices[right]:\n",
        "      maxProfit = max(maxProfit,prices[right]-prices[left])\n",
        "      right += 1\n",
        "\n",
        "    else:\n",
        "      left = right\n",
        "      right += 1\n",
        "\n",
        "  return maxProfit\n",
        "\n",
        "maxProfit_I([7,6,4,3,9])\n",
        "\n"
      ],
      "metadata": {
        "colab": {
          "base_uri": "https://localhost:8080/"
        },
        "id": "ew8LtUBh32ZB",
        "outputId": "09c9c67d-8e27-4445-fe01-61073ac7fd59"
      },
      "execution_count": 5,
      "outputs": [
        {
          "output_type": "execute_result",
          "data": {
            "text/plain": [
              "6"
            ]
          },
          "metadata": {},
          "execution_count": 5
        }
      ]
    },
    {
      "cell_type": "markdown",
      "source": [
        "**Best time to buy and sell stocks II**\n",
        "\n",
        "You are given an integer array prices where prices[i] is the price of a given stock on the ith day.\n",
        "\n",
        "On each day, you may decide to buy and/or sell the stock. You can only hold **at most one share of the stock at any time**. However, you can buy it then immediately sell it on the same day.\n",
        "\n",
        "Find and return the maximum profit you can achieve."
      ],
      "metadata": {
        "id": "MQNPZ_5PBZAU"
      }
    },
    {
      "cell_type": "markdown",
      "source": [
        "**Dynamic programming approach**"
      ],
      "metadata": {
        "id": "-Cz5sDVnFz-M"
      }
    },
    {
      "cell_type": "code",
      "source": [
        "def maxProfit_II_dp(prices):\n",
        "  profit = 0\n",
        "\n",
        "  for i in range(1,len(prices)):\n",
        "    profit += max(0,prices[i]-prices[i-1]) # Equivalent to adding profit each day\n",
        "\n",
        "  return profit if len(prices) > 1 else 0\n",
        "\n",
        "maxProfit_II_dp([7,2,1,4,6,8])"
      ],
      "metadata": {
        "colab": {
          "base_uri": "https://localhost:8080/"
        },
        "id": "Es5cPOPvFzJH",
        "outputId": "676507cd-d51d-4115-f664-f73fba86a131"
      },
      "execution_count": 9,
      "outputs": [
        {
          "output_type": "execute_result",
          "data": {
            "text/plain": [
              "7"
            ]
          },
          "metadata": {},
          "execution_count": 9
        }
      ]
    },
    {
      "cell_type": "code",
      "source": [
        "def maxProfit_II_dp1(prices):\n",
        "  differences = [prices[i+1]-prices[i] for i in range(len(prices)-1)]\n",
        "  profit = 0\n",
        "  for diff in differences:\n",
        "    if diff > 0:\n",
        "      profit += diff\n",
        "\n",
        "  return profit\n",
        "\n",
        "maxProfit_II_dp1([7,2,1,4,6,8])"
      ],
      "metadata": {
        "colab": {
          "base_uri": "https://localhost:8080/"
        },
        "id": "gqIe6jZMpq7Y",
        "outputId": "492a90e1-5ef1-463a-8e04-0a1e586e4b66"
      },
      "execution_count": 4,
      "outputs": [
        {
          "output_type": "execute_result",
          "data": {
            "text/plain": [
              "7"
            ]
          },
          "metadata": {},
          "execution_count": 4
        }
      ]
    }
  ]
}