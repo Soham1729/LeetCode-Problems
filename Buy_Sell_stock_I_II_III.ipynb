{
  "nbformat": 4,
  "nbformat_minor": 0,
  "metadata": {
    "colab": {
      "name": "Buy-Sell_stock-I-II-III.ipynb",
      "provenance": [],
      "authorship_tag": "ABX9TyPhkyt38manTWXNs1O4c45n",
      "include_colab_link": true
    },
    "kernelspec": {
      "name": "python3",
      "display_name": "Python 3"
    },
    "language_info": {
      "name": "python"
    }
  },
  "cells": [
    {
      "cell_type": "markdown",
      "metadata": {
        "id": "view-in-github",
        "colab_type": "text"
      },
      "source": [
        "<a href=\"https://colab.research.google.com/github/Soham1729/LeetCode-Problems/blob/main/Buy_Sell_stock_I_II_III.ipynb\" target=\"_parent\"><img src=\"https://colab.research.google.com/assets/colab-badge.svg\" alt=\"Open In Colab\"/></a>"
      ]
    },
    {
      "cell_type": "markdown",
      "source": [
        "**Buy Sell Stock I**\n",
        "\n",
        "You are given an array prices where prices[i] is the price of a given stock on the ith day. You want to maximize your profit by choosing a single day to buy one stock and choosing a different day in the future to sell that stock. Return the maximum profit you can achieve from this transaction. \n",
        "\n",
        "If you cannot achieve any profit, return 0.\n",
        "\n",
        "* Input: prices = [7,1,5,3,6,4]\n",
        "* Output: 5\n",
        "* Explanation: Buy on day 2 (price = 1) and sell on day 5 (price = 6), profit = 6-1 = 5.\n",
        "Note that buying on day 2 and selling on day 1 is not allowed because you must buy before you sell.\n",
        "\n",
        "* Input: prices = [7,6,4,3,1]\n",
        "* Output: 0\n",
        "*Explanation: In this case, no transactions are done and the max profit = 0."
      ],
      "metadata": {
        "id": "XKtSuLAZWb6N"
      }
    },
    {
      "cell_type": "code",
      "execution_count": 11,
      "metadata": {
        "colab": {
          "base_uri": "https://localhost:8080/"
        },
        "id": "kYug7zLSWGE4",
        "outputId": "87fa9903-45d3-4b8d-a337-9f04b670499e"
      },
      "outputs": [
        {
          "output_type": "execute_result",
          "data": {
            "text/plain": [
              "0"
            ]
          },
          "metadata": {},
          "execution_count": 11
        }
      ],
      "source": [
        "import math  # Time complexity = O(n) Space complexity = O(1)\n",
        "def maxProfit(prices):\n",
        "        minPrice = math.inf\n",
        "        maxProfit = 0\n",
        "        for i in range(len(prices)):\n",
        "            minPrice = min(prices[i],minPrice)\n",
        "            maxProfit = max(maxProfit,prices[i]-minPrice)\n",
        "        return maxProfit\n",
        "\n",
        "maxProfit([7,6,4,3,1])"
      ]
    },
    {
      "cell_type": "markdown",
      "source": [
        ""
      ],
      "metadata": {
        "id": "SKBPak8JWNF2"
      }
    }
  ]
}