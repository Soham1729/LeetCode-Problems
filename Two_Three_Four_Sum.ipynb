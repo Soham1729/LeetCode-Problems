{
  "nbformat": 4,
  "nbformat_minor": 0,
  "metadata": {
    "colab": {
      "name": "Two-Three-Four Sum.ipynb",
      "provenance": [],
      "authorship_tag": "ABX9TyPcgXssCsiGGCvYng53EXyW",
      "include_colab_link": true
    },
    "kernelspec": {
      "name": "python3",
      "display_name": "Python 3"
    },
    "language_info": {
      "name": "python"
    }
  },
  "cells": [
    {
      "cell_type": "markdown",
      "metadata": {
        "id": "view-in-github",
        "colab_type": "text"
      },
      "source": [
        "<a href=\"https://colab.research.google.com/github/Soham1729/LeetCode-Problems/blob/main/Two_Three_Four_Sum.ipynb\" target=\"_parent\"><img src=\"https://colab.research.google.com/assets/colab-badge.svg\" alt=\"Open In Colab\"/></a>"
      ]
    },
    {
      "cell_type": "markdown",
      "source": [
        "Here we discuss three problems in ascending order of difficulty\n",
        "\n",
        "*   Two Sum\n",
        "*   Three Sum\n",
        "*   Four Sum\n",
        "\n"
      ],
      "metadata": {
        "id": "FIXusFkqM1_Z"
      }
    },
    {
      "cell_type": "code",
      "execution_count": 7,
      "metadata": {
        "id": "F4slNara6js5",
        "colab": {
          "base_uri": "https://localhost:8080/"
        },
        "outputId": "408c9748-371b-4b35-e252-c22a37e8e1cf"
      },
      "outputs": [
        {
          "output_type": "execute_result",
          "data": {
            "text/plain": [
              "[3, 4]"
            ]
          },
          "metadata": {},
          "execution_count": 7
        }
      ],
      "source": [
        "def twoSum(nums, target):\n",
        "  dict = {}\n",
        "  for i in range(len(nums)):\n",
        "    temp = target - nums[i]\n",
        "    if temp in dict.keys():\n",
        "      return [dict[temp],i]    \n",
        "    else:\n",
        "      dict[nums[i]] = i  \n",
        "\n",
        "twoSum([3,5,7,1,32],33)\n"
      ]
    },
    {
      "cell_type": "markdown",
      "source": [
        ""
      ],
      "metadata": {
        "id": "Sj9qn1KWM03B"
      }
    },
    {
      "cell_type": "code",
      "source": [
        "def threeSum(nums,target):\n",
        "  return "
      ],
      "metadata": {
        "id": "_1Gut0FUNRez"
      },
      "execution_count": 4,
      "outputs": []
    },
    {
      "cell_type": "code",
      "source": [
        "def fourSum(nums,target):\n",
        "  return"
      ],
      "metadata": {
        "id": "THgZnrQaNWsn"
      },
      "execution_count": 5,
      "outputs": []
    }
  ]
}